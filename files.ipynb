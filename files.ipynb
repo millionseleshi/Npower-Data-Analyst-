{
 "cells": [
  {
   "cell_type": "markdown",
   "metadata": {},
   "source": [
    "#Q1 Create a text file called mytxt.txt\n",
    "# Save the following content in the text file:\n",
    "# \"In this section, we will use Python's built-in open function to create a file\n",
    "# and obtain the data from a \"txt\" file.\n",
    "# We will use Python's open function to get a file object.\n",
    "# We can apply a method to that object to read data from the file.\n",
    "# The first argument is the file path, the second parameter is the mode."
   ]
  },
  {
   "cell_type": "code",
   "execution_count": 66,
   "metadata": {},
   "outputs": [
    {
     "name": "stdout",
     "output_type": "stream",
     "text": [
      "In this section, we will use Python's built-in open function to create a file and obtain the data from a \"txt\" file.\n",
      "We will use Python's open function to get a file object.\n",
      "We can apply a method to that object to read data from the file.\n",
      "The first argument is the file path, the second parameter is the mode\n"
     ]
    }
   ],
   "source": []
  },
  {
   "cell_type": "markdown",
   "metadata": {},
   "source": [
    "#Q1 Write a Python program to read the entire mytxt file"
   ]
  },
  {
   "cell_type": "code",
   "execution_count": 67,
   "metadata": {},
   "outputs": [
    {
     "name": "stdout",
     "output_type": "stream",
     "text": [
      "In this section, we will use Python's built-in open function to create a file and obtain the data from a \"txt\" file.\n",
      "We will use Python's open function to get a file object.\n",
      "We can apply a method to that object to read data from the file.\n",
      "The first argument is the file path, the second parameter is the mode\n"
     ]
    }
   ],
   "source": []
  },
  {
   "cell_type": "markdown",
   "metadata": {},
   "source": [
    "#Q2 Write a Python program to read last 3 lines of mytxt file"
   ]
  },
  {
   "cell_type": "code",
   "execution_count": 68,
   "metadata": {},
   "outputs": [
    {
     "name": "stdout",
     "output_type": "stream",
     "text": [
      "[\"We will use Python's open function to get a file object.\\n\", 'We can apply a method to that object to read data from the file.\\n', 'The first argument is the file path, the second parameter is the mode']\n"
     ]
    }
   ],
   "source": []
  },
  {
   "cell_type": "markdown",
   "metadata": {},
   "source": [
    "#Q3 Write a Python program to read last n lines of mytxt file\n",
    "#[Hint: write a function]"
   ]
  },
  {
   "cell_type": "code",
   "execution_count": 69,
   "metadata": {},
   "outputs": [
    {
     "name": "stdout",
     "output_type": "stream",
     "text": [
      "We will use Python's open function to get a file object.\n",
      "We can apply a method to that object to read data from the file.\n",
      "The first argument is the file path, the second parameter is the mode"
     ]
    }
   ],
   "source": []
  },
  {
   "cell_type": "markdown",
   "metadata": {},
   "source": [
    "#Q4 count the number of lines in mytxt file"
   ]
  },
  {
   "cell_type": "code",
   "execution_count": 70,
   "metadata": {},
   "outputs": [
    {
     "name": "stdout",
     "output_type": "stream",
     "text": [
      "4\n"
     ]
    }
   ],
   "source": [
    "f=open('mytext.txt','r')\n",
    "print(len(f.readlines()))\n",
    "f.close()"
   ]
  },
  {
   "cell_type": "markdown",
   "metadata": {},
   "source": [
    "\n",
    "#Q5 Write a Python program to generate 26 text files named A.txt, B.txt,... Z.txt"
   ]
  },
  {
   "cell_type": "code",
   "execution_count": 71,
   "metadata": {},
   "outputs": [],
   "source": [
    "import string\n",
    "\n",
    "# Get the uppercase letters\n",
    "letters = string.ascii_uppercase\n",
    "\n",
    "# Generate the text files\n",
    "for letter in letters:\n",
    "    filename = letter + '.txt'\n",
    "    with open(filename, 'w') as file:\n",
    "        file.write(f'This is file {filename}')"
   ]
  },
  {
   "cell_type": "markdown",
   "metadata": {},
   "source": [
    "#Q6 Write a Python program to append \"End of file\" to mytxt file and\n",
    "# display the text"
   ]
  },
  {
   "cell_type": "code",
   "execution_count": 72,
   "metadata": {},
   "outputs": [],
   "source": [
    "with open('mytext.txt', 'a') as file:\n",
    "    file.write('\\nEnd of file')"
   ]
  },
  {
   "cell_type": "markdown",
   "metadata": {},
   "source": [
    "\n",
    "#Q7 Write a Python program to remove newline characters from mytxt file"
   ]
  },
  {
   "cell_type": "code",
   "execution_count": 73,
   "metadata": {},
   "outputs": [],
   "source": [
    "with open('mytext.txt', 'r') as file:\n",
    "    content = file.read().replace('\\n', '')\n",
    "    \n",
    "with open('mytext.txt', 'w') as file:\n",
    "    file.write(content)"
   ]
  },
  {
   "cell_type": "markdown",
   "metadata": {},
   "source": [
    "\n",
    "#Q8 Write a python program to find the longest word in mytxt file"
   ]
  },
  {
   "cell_type": "code",
   "execution_count": 74,
   "metadata": {},
   "outputs": [
    {
     "name": "stdout",
     "output_type": "stream",
     "text": [
      "The longest word in the file is: object.We\n"
     ]
    }
   ],
   "source": [
    "with open('mytext.txt', 'r') as file:\n",
    "    content = file.read()\n",
    "    words = content.split()\n",
    "    longest_word = max(words, key=len)\n",
    "    print(f\"The longest word in the file is: {longest_word}\")"
   ]
  },
  {
   "cell_type": "markdown",
   "metadata": {},
   "source": [
    "\n",
    "#Q9 Write a Python program to count the frequency \"We\" in mytxt file"
   ]
  },
  {
   "cell_type": "code",
   "execution_count": 75,
   "metadata": {},
   "outputs": [
    {
     "name": "stdout",
     "output_type": "stream",
     "text": [
      "The frequency of 'We' in the file is: 2\n"
     ]
    }
   ],
   "source": [
    "with open('mytext.txt', 'r') as file:\n",
    "    content = file.read()\n",
    "    frequency = content.count('We')\n",
    "    print(f\"The frequency of 'We' in the file is: {frequency}\")"
   ]
  },
  {
   "cell_type": "markdown",
   "metadata": {},
   "source": [
    "#Q10 Write a Python program to build a sign_Up and login forms for users.\n",
    "#Your program should validate/authenticate entered credentials for existing users\n",
    "#or create new accounts for new users\n",
    "#1 Create \"Credentials.txt\" file\n",
    "#2 Add the following information into your Credentials.txt file <Name, Password>\n",
    "# Sarah,12ssr\n",
    "# Lisa,pass\n",
    "# Donna,D00N\n",
    "#3 Create login function that takes two inputs (name,password)\n",
    "#3.1 Ask the user to enter their username and password\n",
    "#3.2 search if the names exist in the Credentials.txt file\n",
    "#3.2.1 if the name was found, check if the password is correct\n",
    "#3.2.2 return \"Welcome <persons name> if the name and password were corre\n",
    "#3.2.3 else return \"wrong name or password\"\n",
    "#3.2 if the name doesn't exist return \"your name doesn't exist, please create\n",
    "#4 Create sign_Up function that takes two inputs(newName,newPassword)\n",
    "#Ask user to enter their name and password\n",
    "#append the new information into the Credentials.txt file, follow the same fo\n",
    "#5 Test your program by logging in using the new account"
   ]
  },
  {
   "cell_type": "code",
   "execution_count": 76,
   "metadata": {},
   "outputs": [
    {
     "name": "stdout",
     "output_type": "stream",
     "text": [
      "Welcome NewUser\n"
     ]
    }
   ],
   "source": [
    "def login(name, password):\n",
    "    with open('Credentials.txt', 'r') as f:\n",
    "        for line in f:\n",
    "            credentials = line.strip().split(',')\n",
    "            if name == credentials[0]:\n",
    "                if password == credentials[1]:\n",
    "                    return f\"Welcome {name}\"\n",
    "                else:\n",
    "                    return \"Wrong name or password\"\n",
    "        return \"Your name doesn't exist, please create an account\"\n",
    "\n",
    "def sign_up(newName, newPassword):\n",
    "    with open('Credentials.txt', 'a') as f:\n",
    "        f.write(f\"\\n{newName},{newPassword}\")\n",
    "\n",
    "# Test the program\n",
    "sign_up('Sarah','12ssr')\n",
    "sign_up('Lisa','pass')\n",
    "sign_up('Donna','5678')\n",
    "print(login('NewUser', 'NewPassword'))"
   ]
  }
 ],
 "metadata": {
  "kernelspec": {
   "display_name": "base",
   "language": "python",
   "name": "python3"
  },
  "language_info": {
   "codemirror_mode": {
    "name": "ipython",
    "version": 3
   },
   "file_extension": ".py",
   "mimetype": "text/x-python",
   "name": "python",
   "nbconvert_exporter": "python",
   "pygments_lexer": "ipython3",
   "version": "3.11.5"
  }
 },
 "nbformat": 4,
 "nbformat_minor": 2
}
