{
 "cells": [
  {
   "cell_type": "markdown",
   "metadata": {},
   "source": [
    "# Python Tuples Exercises"
   ]
  },
  {
   "cell_type": "code",
   "execution_count": 1,
   "metadata": {},
   "outputs": [
    {
     "name": "stdout",
     "output_type": "stream",
     "text": [
      "('NPower', 'JDA', 'Tuesday', 30, 3, 2021)\n"
     ]
    }
   ],
   "source": [
    "#Q1 Create myTuple tuple with the follwoing values \n",
    "#(\"NPower\",\"JDA\",\"Tuesday\",30,3,2021)\n",
    "myTuple = (\"NPower\",\"JDA\",\"Tuesday\",30,3,2021)\n",
    "print(myTuple)"
   ]
  },
  {
   "cell_type": "code",
   "execution_count": 2,
   "metadata": {},
   "outputs": [
    {
     "data": {
      "text/plain": [
       "tuple"
      ]
     },
     "execution_count": 2,
     "metadata": {},
     "output_type": "execute_result"
    }
   ],
   "source": [
    "#Q2 What is the type of myTuple\n",
    "type(myTuple)"
   ]
  },
  {
   "cell_type": "code",
   "execution_count": 3,
   "metadata": {},
   "outputs": [
    {
     "name": "stdout",
     "output_type": "stream",
     "text": [
      "6\n"
     ]
    }
   ],
   "source": [
    "#Q3 What is the length of myTuple\n",
    "print(len(myTuple))"
   ]
  },
  {
   "cell_type": "code",
   "execution_count": 4,
   "metadata": {},
   "outputs": [
    {
     "name": "stdout",
     "output_type": "stream",
     "text": [
      "NPower\n",
      "JDA\n",
      "Tuesday\n",
      "30\n",
      "3\n",
      "2021\n"
     ]
    }
   ],
   "source": [
    "#Q4 print the values in each index #Use regular indexing \n",
    "print(myTuple[0])\n",
    "print(myTuple[1])\n",
    "print(myTuple[2])\n",
    "print(myTuple[3])\n",
    "print(myTuple[4])\n",
    "print(myTuple[5])"
   ]
  },
  {
   "cell_type": "code",
   "execution_count": 5,
   "metadata": {},
   "outputs": [
    {
     "name": "stdout",
     "output_type": "stream",
     "text": [
      "NPower\n",
      "JDA\n",
      "Tuesday\n",
      "30\n",
      "3\n",
      "2021\n"
     ]
    }
   ],
   "source": [
    "#Q5 print the values in each index #Use negative indexing \n",
    "print(myTuple[-6])\n",
    "print(myTuple[-5])\n",
    "print(myTuple[-4])\n",
    "print(myTuple[-3])\n",
    "print(myTuple[-2])\n",
    "print(myTuple[-1])"
   ]
  },
  {
   "cell_type": "code",
   "execution_count": 6,
   "metadata": {},
   "outputs": [
    {
     "name": "stdout",
     "output_type": "stream",
     "text": [
      "<class 'str'>\n",
      "<class 'str'>\n",
      "<class 'str'>\n",
      "<class 'int'>\n",
      "<class 'int'>\n",
      "<class 'int'>\n"
     ]
    }
   ],
   "source": [
    "#Q6 what is the type of each value\n",
    "for i in myTuple:\n",
    "    print(type(i))"
   ]
  },
  {
   "cell_type": "code",
   "execution_count": 7,
   "metadata": {},
   "outputs": [
    {
     "name": "stdout",
     "output_type": "stream",
     "text": [
      "NPower\n",
      "JDA\n",
      "Tuesday\n",
      "30\n",
      "3\n",
      "2021\n"
     ]
    }
   ],
   "source": [
    "#Q7 unpack myTuple in the follwoeing variables \n",
    "#name,program,dayName,month,day,year accordingly \n",
    "# print the variables \n",
    "name,program,dayName,month,day,year = myTuple\n",
    "print(name)\n",
    "print(program)\n",
    "print(dayName)\n",
    "print(month)\n",
    "print(day)\n",
    "print(year)"
   ]
  },
  {
   "cell_type": "code",
   "execution_count": 8,
   "metadata": {},
   "outputs": [
    {
     "name": "stdout",
     "output_type": "stream",
     "text": [
      "NPower\n",
      "JDA\n",
      "Tuesday\n"
     ]
    }
   ],
   "source": [
    "#Q8 unpack myTuple2 in the follwoeing variables name,program,dayName.\n",
    "# What will happen to variables (name,program,dayName) and (month,day,year)\n",
    "\n",
    "myTuple2 = (\"NPower\",\"JDA\",\"Tuesday\")\n",
    "name,program,dayName = myTuple2\n",
    "print(name)\n",
    "print(program)\n",
    "print(dayName)"
   ]
  },
  {
   "cell_type": "code",
   "execution_count": 9,
   "metadata": {},
   "outputs": [
    {
     "name": "stdout",
     "output_type": "stream",
     "text": [
      "Type a <class 'str'>\n",
      "Jerry 2 89\n",
      "<class 'tuple'>\n",
      "('Ulan',)\n",
      "Leul\n"
     ]
    }
   ],
   "source": [
    "# Note the following\n",
    "Tuple1=(\"Jerry\",2,89) #This is a tuple with 3 elements \n",
    "Tuple2=(\"Ulan\",)#This is a tuple with 1 element\n",
    "test=\"Leul\" #This is a VARIABLE with string value\n",
    "\n",
    "a,b,c=Tuple1\n",
    "print(\"Type a\",type(a))\n",
    "print(a,b,c)\n",
    "\n",
    "d=Tuple2\n",
    "print(type(d))\n",
    "print(d)\n",
    "\n",
    "e=test\n",
    "print(e)"
   ]
  },
  {
   "cell_type": "code",
   "execution_count": 10,
   "metadata": {},
   "outputs": [
    {
     "name": "stdout",
     "output_type": "stream",
     "text": [
      "(1, 2, 3)\n",
      "(4, 5, 6)\n"
     ]
    },
    {
     "ename": "TypeError",
     "evalue": "'tuple' object does not support item assignment",
     "output_type": "error",
     "traceback": [
      "\u001b[1;31m---------------------------------------------------------------------------\u001b[0m",
      "\u001b[1;31mTypeError\u001b[0m                                 Traceback (most recent call last)",
      "Cell \u001b[1;32mIn[10], line 13\u001b[0m\n\u001b[0;32m      9\u001b[0m \u001b[38;5;28mprint\u001b[39m(testTuple)\n\u001b[0;32m     11\u001b[0m \u001b[38;5;66;03m#But we can't change or edit a value for the existing tuple\u001b[39;00m\n\u001b[1;32m---> 13\u001b[0m \u001b[43mtestTuple\u001b[49m\u001b[43m[\u001b[49m\u001b[38;5;241;43m0\u001b[39;49m\u001b[43m]\u001b[49m\u001b[38;5;241m=\u001b[39m\u001b[38;5;241m6\u001b[39m \u001b[38;5;66;03m#ERROR 'tuple' object does not support item assignment\u001b[39;00m\n",
      "\u001b[1;31mTypeError\u001b[0m: 'tuple' object does not support item assignment"
     ]
    }
   ],
   "source": [
    "#Tuples are immutable\n",
    "#we can always make the testTuple variable reference a new tuple in the memory \n",
    "#and hold a different information\n",
    "\n",
    "testTuple=(1,2,3)\n",
    "print(testTuple)\n",
    "\n",
    "testTuple=(4,5,6)\n",
    "print(testTuple)\n",
    "\n",
    "#But we can't change or edit a value for the existing tuple\n",
    "\n",
    "testTuple[0]=6 #ERROR 'tuple' object does not support item assignment\n",
    "\n"
   ]
  },
  {
   "cell_type": "code",
   "execution_count": null,
   "metadata": {},
   "outputs": [],
   "source": [
    "#Q9 Reverse myTuple, output should looks like \n",
    "#(2021,3,30,\"Tuesday\",\"JDA\",\"NPower\")\n",
    "myTuple = (\"NPower\",\"JDA\",\"Tuesday\",30,3,2021)\n",
    "myTuple = myTuple[::-1]\n",
    "print(myTuple)"
   ]
  },
  {
   "cell_type": "code",
   "execution_count": 12,
   "metadata": {},
   "outputs": [
    {
     "name": "stdout",
     "output_type": "stream",
     "text": [
      "(('Coursera', 'course', 6), ('week', (2, 'Lists', 'Tuple')))\n"
     ]
    }
   ],
   "source": [
    "#Q10 Create nestedTuple=((\"Coursera\",\"course\",6),(\"week\",(2,\"Lists\",\"Tuple\")))\n",
    "nestedTuple=((\"Coursera\",\"course\",6),(\"week\",(2,\"Lists\",\"Tuple\")))\n",
    "print(nestedTuple)"
   ]
  },
  {
   "cell_type": "code",
   "execution_count": null,
   "metadata": {},
   "outputs": [
    {
     "name": "stdout",
     "output_type": "stream",
     "text": [
      "(('week', (2, 'Lists', 'Tuple')),)\n"
     ]
    }
   ],
   "source": [
    "#Q11 What is the output of nestedTuple[1:2]\n",
    "print(nestedTuple[1:2])"
   ]
  },
  {
   "cell_type": "code",
   "execution_count": null,
   "metadata": {},
   "outputs": [
    {
     "name": "stdout",
     "output_type": "stream",
     "text": [
      "Coursera\n",
      "course\n",
      "6\n"
     ]
    }
   ],
   "source": [
    "#Q12 print each element in the nestedTuple\n",
    "for i in nestedTuple:\n",
    "    for j in i:\n",
    "        print(j)"
   ]
  },
  {
   "cell_type": "code",
   "execution_count": 13,
   "metadata": {},
   "outputs": [
    {
     "name": "stdout",
     "output_type": "stream",
     "text": [
      "(2, 'Lists', 'Tuple')\n"
     ]
    }
   ],
   "source": [
    "#Q13 Access (2,\"Lists\",\"Tuple\") from nestedTuple\n",
    "print(nestedTuple[1][1])"
   ]
  },
  {
   "cell_type": "code",
   "execution_count": 14,
   "metadata": {},
   "outputs": [
    {
     "name": "stdout",
     "output_type": "stream",
     "text": [
      "Lists\n"
     ]
    }
   ],
   "source": [
    "#Q14 Access the value \"Lists\" from nestedTuple\n",
    "print(nestedTuple[1][1][1])"
   ]
  },
  {
   "cell_type": "code",
   "execution_count": 15,
   "metadata": {},
   "outputs": [
    {
     "name": "stdout",
     "output_type": "stream",
     "text": [
      "Tuple\n"
     ]
    }
   ],
   "source": [
    "#Q15 Access the value \"Tuple\" from nestedTuple\n",
    "print(nestedTuple[1][1][2])"
   ]
  },
  {
   "cell_type": "code",
   "execution_count": 16,
   "metadata": {},
   "outputs": [
    {
     "name": "stdout",
     "output_type": "stream",
     "text": [
      "course\n"
     ]
    }
   ],
   "source": [
    "#Q16 Access the value \"course\" from nestedTuple\n",
    "print(nestedTuple[0][1])"
   ]
  },
  {
   "cell_type": "code",
   "execution_count": 18,
   "metadata": {},
   "outputs": [
    {
     "name": "stdout",
     "output_type": "stream",
     "text": [
      "('NPower', 'JDA', 'Tuesday', 30, 3, 2021, ('Coursera', 'course', 6), ('week', (2, 'Lists', 'Tuple')))\n"
     ]
    }
   ],
   "source": [
    "#Q17 Concatenate myTuple with nestedTuple\n",
    "newTuple = myTuple + nestedTuple\n",
    "print(newTuple)"
   ]
  },
  {
   "cell_type": "code",
   "execution_count": 21,
   "metadata": {},
   "outputs": [
    {
     "name": "stdout",
     "output_type": "stream",
     "text": [
      "('NPower', 'JDA', 'Tuesday', 30, 3, 2021, ('Coursera', 'course', 6), ('week', (2, 'Lists', 'Tuple')), 'Leul', 'million', 'million')\n"
     ]
    }
   ],
   "source": [
    "#Q18 add your name to the tuple\n",
    "newTuple = newTuple + (\"million\",)\n",
    "print(newTuple)"
   ]
  },
  {
   "cell_type": "code",
   "execution_count": 22,
   "metadata": {},
   "outputs": [
    {
     "name": "stdout",
     "output_type": "stream",
     "text": [
      "False\n"
     ]
    }
   ],
   "source": [
    "#Q19 check whether Coursera exists within  myTuple\n",
    "\n",
    "# NOTE \"in\" doesn't work properly with nested tuples\n",
    "\n",
    "print(\"Coursera\" in newTuple)"
   ]
  },
  {
   "cell_type": "code",
   "execution_count": 23,
   "metadata": {},
   "outputs": [
    {
     "name": "stdout",
     "output_type": "stream",
     "text": [
      "True\n"
     ]
    }
   ],
   "source": [
    "#Q20 check whether 55 exists within testTuple\n",
    "testTuple=(1,2,33,55,6,55)\n",
    "print(55 in testTuple)"
   ]
  },
  {
   "cell_type": "code",
   "execution_count": 26,
   "metadata": {},
   "outputs": [
    {
     "name": "stdout",
     "output_type": "stream",
     "text": [
      "1\n"
     ]
    },
    {
     "ename": "ValueError",
     "evalue": "tuple.index(x): x not in tuple",
     "output_type": "error",
     "traceback": [
      "\u001b[1;31m---------------------------------------------------------------------------\u001b[0m",
      "\u001b[1;31mValueError\u001b[0m                                Traceback (most recent call last)",
      "Cell \u001b[1;32mIn[26], line 8\u001b[0m\n\u001b[0;32m      6\u001b[0m myTuple\u001b[38;5;241m.\u001b[39mindex(\u001b[38;5;124m\"\u001b[39m\u001b[38;5;124mJDA\u001b[39m\u001b[38;5;124m\"\u001b[39m)\n\u001b[0;32m      7\u001b[0m \u001b[38;5;28mprint\u001b[39m(myTuple\u001b[38;5;241m.\u001b[39mindex(\u001b[38;5;124m\"\u001b[39m\u001b[38;5;124mJDA\u001b[39m\u001b[38;5;124m\"\u001b[39m))\n\u001b[1;32m----> 8\u001b[0m \u001b[38;5;28mprint\u001b[39m(\u001b[43mmyTuple\u001b[49m\u001b[38;5;241;43m.\u001b[39;49m\u001b[43mindex\u001b[49m\u001b[43m(\u001b[49m\u001b[38;5;124;43m\"\u001b[39;49m\u001b[38;5;124;43mCoursera\u001b[39;49m\u001b[38;5;124;43m\"\u001b[39;49m\u001b[43m)\u001b[49m)\n",
      "\u001b[1;31mValueError\u001b[0m: tuple.index(x): x not in tuple"
     ]
    }
   ],
   "source": [
    "#Q21 Find the index of JDA in myTuple\n",
    "\n",
    "\n",
    "# Find the index of 'Coursera' in myTuple\n",
    "# NOTE index doesn't work properly with nested tuples # Wrong output\n",
    "myTuple.index(\"JDA\")\n",
    "print(myTuple.index(\"JDA\"))\n",
    "print(myTuple.index(\"Coursera\"))\n"
   ]
  },
  {
   "cell_type": "code",
   "execution_count": 27,
   "metadata": {},
   "outputs": [
    {
     "ename": "IndexError",
     "evalue": "tuple index out of range",
     "output_type": "error",
     "traceback": [
      "\u001b[1;31m---------------------------------------------------------------------------\u001b[0m",
      "\u001b[1;31mIndexError\u001b[0m                                Traceback (most recent call last)",
      "Cell \u001b[1;32mIn[27], line 2\u001b[0m\n\u001b[0;32m      1\u001b[0m \u001b[38;5;66;03m#Q22 print index 8 from myTuple\u001b[39;00m\n\u001b[1;32m----> 2\u001b[0m \u001b[38;5;28mprint\u001b[39m(\u001b[43mmyTuple\u001b[49m\u001b[43m[\u001b[49m\u001b[38;5;241;43m8\u001b[39;49m\u001b[43m]\u001b[49m)\n",
      "\u001b[1;31mIndexError\u001b[0m: tuple index out of range"
     ]
    }
   ],
   "source": [
    "#Q22 print index 8 from myTuple\n",
    "print(myTuple[8])"
   ]
  },
  {
   "cell_type": "code",
   "execution_count": 28,
   "metadata": {},
   "outputs": [
    {
     "name": "stdout",
     "output_type": "stream",
     "text": [
      "30\n"
     ]
    }
   ],
   "source": [
    "#Q23 Get the 4th element from the begining of myTuple \n",
    "#and 4th element from last of a myTuple\n",
    "print(myTuple[3])"
   ]
  },
  {
   "cell_type": "code",
   "execution_count": 29,
   "metadata": {},
   "outputs": [
    {
     "name": "stdout",
     "output_type": "stream",
     "text": [
      "2\n"
     ]
    }
   ],
   "source": [
    "#Q24 Find how many times 55 appeared in testTuple [Hint: Use method count()]\n",
    "print(testTuple.count(55))"
   ]
  }
 ],
 "metadata": {
  "kernelspec": {
   "display_name": "Python 3 (ipykernel)",
   "language": "python",
   "name": "python3"
  },
  "language_info": {
   "codemirror_mode": {
    "name": "ipython",
    "version": 3
   },
   "file_extension": ".py",
   "mimetype": "text/x-python",
   "name": "python",
   "nbconvert_exporter": "python",
   "pygments_lexer": "ipython3",
   "version": "0.0.0"
  }
 },
 "nbformat": 4,
 "nbformat_minor": 4
}
