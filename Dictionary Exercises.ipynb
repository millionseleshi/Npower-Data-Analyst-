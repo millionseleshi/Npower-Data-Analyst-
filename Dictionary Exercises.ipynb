{
 "cells": [
  {
   "cell_type": "markdown",
   "metadata": {},
   "source": [
    "# Python Dictionary Exercises"
   ]
  },
  {
   "cell_type": "code",
   "execution_count": null,
   "metadata": {},
   "outputs": [],
   "source": [
    "#Q1 Create a dictionary for all participants in the JDA program.\n",
    "#Keys should be the first letter in their names, \n",
    "#Values should be their names.\n",
    "#[Hint] dic={\"l\":(Leul),\"J\":(Jerry,Jainam)........}\n",
    "\n",
    "JDA_Participants = {\"S\":\"Senai\",\"A\":(\"Amad\",\"Ashish\"),\"N\":\"Noel\",\"R\":(\"Rohullah\",\"Ramya\"),\"M\":\"Million\"}\n",
    "for members in JDA_Participants:\n",
    "    print(members,\":\",JDA_Participants[members])"
   ]
  },
  {
   "cell_type": "code",
   "execution_count": null,
   "metadata": {},
   "outputs": [],
   "source": [
    "#Q2 What are the keys of your dictionary\n",
    "print(JDA_Participants.keys())"
   ]
  },
  {
   "cell_type": "code",
   "execution_count": null,
   "metadata": {},
   "outputs": [],
   "source": [
    "#Q3 What are the values of your dictionary\n",
    "print(JDA_Participants.values())"
   ]
  },
  {
   "cell_type": "code",
   "execution_count": null,
   "metadata": {},
   "outputs": [],
   "source": [
    "#Q4 Find participant's names that start with J,I,M,C,A\n",
    "for members in JDA_Participants:\n",
    "    if members == \"J\" or members == \"I\" or members == \"M\" or members == \"C\" or members == \"A\":\n",
    "        print(members,\":\",JDA_Participants[members])"
   ]
  },
  {
   "cell_type": "code",
   "execution_count": null,
   "metadata": {},
   "outputs": [],
   "source": [
    "#Q5 Add the following to your dictionary \n",
    "# Key<(K,PD)>, Value<(Kristina)>\n",
    "JDA_Participants[('K','PD')]=\"Kristina\"\n",
    "print(JDA_Participants)"
   ]
  },
  {
   "cell_type": "code",
   "execution_count": null,
   "metadata": {},
   "outputs": [],
   "source": [
    "#Q6 Find the length of your dictionary  \n",
    "print(len(JDA_Participants))"
   ]
  },
  {
   "cell_type": "code",
   "execution_count": null,
   "metadata": {},
   "outputs": [],
   "source": [
    "#Q7 Add the following to your dictionary \n",
    "# Key<(S,Instructor)>, Value<(Sarah)>\n",
    "JDA_Participants[('S','Instructor')]=\"Sarah\"\n",
    "print(JDA_Participants)"
   ]
  },
  {
   "cell_type": "code",
   "execution_count": null,
   "metadata": {},
   "outputs": [],
   "source": [
    "#Q8 Find the length of your dictionary  \n",
    "print(len(JDA_Participants))"
   ]
  },
  {
   "cell_type": "code",
   "execution_count": null,
   "metadata": {},
   "outputs": [],
   "source": [
    "#Q7 Delete the following keys from your dictionary \n",
    "#Key<(S,Instructor)>\n",
    "#Key<J>\n",
    "JDA_Participants.pop(('S','Instructor'),None)\n",
    "JDA_Participants.pop(\"J\",None)\n",
    "print(JDA_Participants)"
   ]
  },
  {
   "cell_type": "code",
   "execution_count": null,
   "metadata": {},
   "outputs": [],
   "source": [
    "#Q9 Find the length of your dictionary  \n",
    "print(len(JDA_Participants))"
   ]
  },
  {
   "cell_type": "code",
   "execution_count": null,
   "metadata": {},
   "outputs": [],
   "source": [
    "#Q10 Create a new dictionary called synonyms_dic\n",
    "synonyms_dic={}"
   ]
  },
  {
   "cell_type": "code",
   "execution_count": null,
   "metadata": {},
   "outputs": [],
   "source": [
    "#Q11 Add the synonyms of the following words to your dictionary \n",
    "#Bad, Good, Awesome, Cold, Easy, Hard, Big, Small\n",
    "synonyms_dic[\"Bad\"]=\"Terrible\"\n",
    "synonyms_dic[\"Good\"]=\"Great\"\n",
    "synonyms_dic[\"Awesome\"]=\"Amazing\"\n",
    "synonyms_dic[\"Cold\"]=\"Chilly\"\n",
    "synonyms_dic[\"Easy\"]=\"Simple\"\n",
    "synonyms_dic[\"Hard\"]=\"Difficult\"\n",
    "synonyms_dic[\"Big\"]=\"Large\"\n",
    "synonyms_dic[\"Small\"]=\"Tiny\"\n",
    "print(synonyms_dic)"
   ]
  },
  {
   "cell_type": "code",
   "execution_count": null,
   "metadata": {},
   "outputs": [],
   "source": [
    "#Q12 Use your dictionary to find the synonym of the following words \n",
    "# Awesome, Easy, Small, Old\n",
    "for words in synonyms_dic:\n",
    "    if words == \"Awesome\" or words == \"Easy\" or words == \"Small\" or words == \"Old\":\n",
    "        print(words,\":\",synonyms_dic[words])"
   ]
  },
  {
   "cell_type": "code",
   "execution_count": null,
   "metadata": {},
   "outputs": [],
   "source": [
    "#Q13 Delete everything from synonyms_dic\n",
    "synonyms_dic.clear()"
   ]
  },
  {
   "cell_type": "code",
   "execution_count": null,
   "metadata": {},
   "outputs": [],
   "source": [
    "#Q14 Print all values in synonyms_dic\n",
    "print(synonyms_dic.values())"
   ]
  },
  {
   "cell_type": "code",
   "execution_count": null,
   "metadata": {},
   "outputs": [],
   "source": [
    "#Q15 Convert the below two lists into dictionary\n",
    "Keys=[\"True\",\"False\"]\n",
    "Values=[1,0]\n",
    "parity_Check={\"True\":1,\"False\":0}\n",
    "print(parity_Check)"
   ]
  },
  {
   "cell_type": "code",
   "execution_count": null,
   "metadata": {},
   "outputs": [],
   "source": [
    "#Q16 Sum all the values in the following dictionary\n",
    "income={'Jan':1000,'Feb':1500,'Mar':980,'April':1000}\n",
    "\n",
    "print(sum(income.values()))\n"
   ]
  },
  {
   "cell_type": "code",
   "execution_count": null,
   "metadata": {},
   "outputs": [],
   "source": [
    "#Q17 Create the following dictionary \n",
    "#encryption=\n",
    "#{10:\"hungry\",101:\"am\",110:\"I\",1011:\",\",1101:\"eat\",1001:\"want\",111:\"to\"}\n",
    "# What should be the decryption of the following code \n",
    "#\"110 101 10 1011 110 1001 111 1101\"\n",
    "\n",
    "encryption={10:\"hungry\",101:\"am\",110:\"I\",1011:\",\",1101:\"eat\",1001:\"want\",111:\"to\"}\n",
    "dec_keys=[110,101,10,1011, 110, 1001, 111, 1101]\n",
    "message=\"\"\n",
    "for enc_key in encryption:\n",
    "        for dec_key in dec_keys:\n",
    "          message = message + \" \"+encryption[dec_key]\n",
    "        break\n",
    "\n",
    "print(message)"
   ]
  }
 ],
 "metadata": {
  "kernelspec": {
   "display_name": "Python 3 (ipykernel)",
   "language": "python",
   "name": "python3"
  },
  "language_info": {
   "codemirror_mode": {
    "name": "ipython",
    "version": 3
   },
   "file_extension": ".py",
   "mimetype": "text/x-python",
   "name": "python",
   "nbconvert_exporter": "python",
   "pygments_lexer": "ipython3",
   "version": "3.11.5"
  }
 },
 "nbformat": 4,
 "nbformat_minor": 4
}
