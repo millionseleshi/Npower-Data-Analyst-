{
 "cells": [
  {
   "cell_type": "markdown",
   "metadata": {},
   "source": [
    "# Python Lists Exercises "
   ]
  },
  {
   "cell_type": "code",
   "execution_count": 9,
   "metadata": {},
   "outputs": [
    {
     "name": "stdout",
     "output_type": "stream",
     "text": [
      "('Million', 'Senai', 'Ashish', 'Rohullah', 'Ramya', 'Noel', 'Noris', 'Amad')\n"
     ]
    }
   ],
   "source": [
    "#Q1 Create a tuple with all participant names in the JDA program\n",
    "JDA_paticipants=(\"Million\",\"Senai\",\"Ashish\",\"Rohullah\",\"Ramya\",\"Noel\",\"Noris\",\"Amad\")\n",
    "print(JDA_paticipants)"
   ]
  },
  {
   "cell_type": "code",
   "execution_count": 10,
   "metadata": {},
   "outputs": [
    {
     "name": "stdout",
     "output_type": "stream",
     "text": [
      "['Million', 'Senai', 'Ashish', 'Rohullah', 'Ramya', 'Noel', 'Noris', 'Amad']\n"
     ]
    }
   ],
   "source": [
    "#Q2 Convert the tuple into a list called pps_L\n",
    "pps_L=list(JDA_paticipants)\n",
    "print(pps_L)"
   ]
  },
  {
   "cell_type": "code",
   "execution_count": 11,
   "metadata": {},
   "outputs": [
    {
     "name": "stdout",
     "output_type": "stream",
     "text": [
      "8\n"
     ]
    }
   ],
   "source": [
    "#Q3 What is the length of your list \n",
    "print(len(pps_L))"
   ]
  },
  {
   "cell_type": "code",
   "execution_count": 13,
   "metadata": {},
   "outputs": [
    {
     "name": "stdout",
     "output_type": "stream",
     "text": [
      "Rohullah\n",
      "Noel\n",
      "Amad\n",
      "Not in range\n",
      "Not in range\n",
      "Not in range\n",
      "Not in range\n"
     ]
    }
   ],
   "source": [
    "#Q4 Find the values stored in indexes [3],[5],[14],[30],[38]\n",
    "# JDA_paticipants=(\"Million\",\"Senai\",\"Ashish\",\"Rohullah\",\"Ramya\",\"Noel\",\"Noris\",\"Amad\")\n",
    "JDA_paticipants_indexes=[3,5,7,8,14,30,38]\n",
    "\n",
    "participant_number=len(JDA_paticipants)\n",
    "\n",
    "for JDA_paticipants_index in JDA_paticipants_indexes:\n",
    "      if JDA_paticipants_index < participant_number:\n",
    "            print(JDA_paticipants[JDA_paticipants_index])\n",
    "      else:\n",
    "            print(\"Not in range\")"
   ]
  },
  {
   "cell_type": "code",
   "execution_count": null,
   "metadata": {},
   "outputs": [],
   "source": [
    "#Q5 Check if \"Sarah\" is in the list"
   ]
  },
  {
   "cell_type": "code",
   "execution_count": null,
   "metadata": {},
   "outputs": [],
   "source": [
    "#Q6 Add \"Sarah\" to your list"
   ]
  },
  {
   "cell_type": "code",
   "execution_count": null,
   "metadata": {},
   "outputs": [],
   "source": [
    "#Q7 Check if \"Bashir\" is in the list"
   ]
  },
  {
   "cell_type": "code",
   "execution_count": null,
   "metadata": {},
   "outputs": [],
   "source": [
    "#Q9 Add \"Bashir\" to your list"
   ]
  },
  {
   "cell_type": "code",
   "execution_count": null,
   "metadata": {},
   "outputs": [],
   "source": [
    "#Q10 Find the index of the element \"Sarah\" in the list"
   ]
  },
  {
   "cell_type": "code",
   "execution_count": null,
   "metadata": {},
   "outputs": [],
   "source": [
    "#Q11 Change the value of the index in Q10 from \"Sarah\" to \"Instructor\""
   ]
  },
  {
   "cell_type": "code",
   "execution_count": null,
   "metadata": {},
   "outputs": [],
   "source": [
    "#Q12 Find the index of the element \"Bashir\" in the list"
   ]
  },
  {
   "cell_type": "code",
   "execution_count": null,
   "metadata": {},
   "outputs": [],
   "source": [
    "#Q13 Change the value of the index in Q12 from \"Bashir\" to \"Peer-Mentor\""
   ]
  }
 ],
 "metadata": {
  "kernelspec": {
   "display_name": "Python 3 (ipykernel)",
   "language": "python",
   "name": "python3"
  },
  "language_info": {
   "codemirror_mode": {
    "name": "ipython",
    "version": 3
   },
   "file_extension": ".py",
   "mimetype": "text/x-python",
   "name": "python",
   "nbconvert_exporter": "python",
   "pygments_lexer": "ipython3",
   "version": "3.11.5"
  }
 },
 "nbformat": 4,
 "nbformat_minor": 4
}
