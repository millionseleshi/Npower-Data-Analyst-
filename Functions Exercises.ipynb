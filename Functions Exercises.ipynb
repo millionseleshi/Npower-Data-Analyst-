{
 "cells": [
  {
   "cell_type": "markdown",
   "metadata": {},
   "source": [
    "# Functions Exercises "
   ]
  },
  {
   "cell_type": "code",
   "execution_count": 2,
   "metadata": {},
   "outputs": [
    {
     "data": {
      "text/plain": [
       "5"
      ]
     },
     "execution_count": 2,
     "metadata": {},
     "output_type": "execute_result"
    }
   ],
   "source": [
    "#Q1 Write Python function that takes two inputs \n",
    "#and return their sum value\n",
    "def summation(number_one , number_two):\n",
    "    return number_one+number_two\n",
    "\n",
    "summation(1,4)"
   ]
  },
  {
   "cell_type": "code",
   "execution_count": 2,
   "metadata": {},
   "outputs": [
    {
     "data": {
      "text/plain": [
       "-40.0"
      ]
     },
     "execution_count": 2,
     "metadata": {},
     "output_type": "execute_result"
    }
   ],
   "source": [
    "#Q2 Write Python function the takes a celsius temprature \n",
    "#and converts it into fahrenheit \n",
    "def celsiusTofahrenheit(tempInCelsius):\n",
    "    return (tempInCelsius*1.8)+32\n",
    "\n",
    "celsiusTofahrenheit(34)"
   ]
  },
  {
   "cell_type": "code",
   "execution_count": 9,
   "metadata": {},
   "outputs": [
    {
     "name": "stdout",
     "output_type": "stream",
     "text": [
      "4\n"
     ]
    }
   ],
   "source": [
    "#Q3 Write a Python function to find the Max of three numbers\n",
    "def maxNumber (num1,num2,num3):\n",
    "     numberList=[num1,num2,num3]\n",
    "     numberList.sort(reverse=True)\n",
    "     print(numberList[0])\n",
    "\n",
    "maxNumber(2,3,4)"
   ]
  },
  {
   "cell_type": "code",
   "execution_count": 13,
   "metadata": {},
   "outputs": [
    {
     "data": {
      "text/plain": [
       "False"
      ]
     },
     "execution_count": 13,
     "metadata": {},
     "output_type": "execute_result"
    }
   ],
   "source": [
    "#Q4 Write a Python function to check whether a number \n",
    "#is in a given range [5,12]\n",
    "def checkNumber(num):\n",
    "    if num in range(5,12):\n",
    "        return True\n",
    "    else:\n",
    "        return False\n",
    "    \n",
    "checkNumber(4)"
   ]
  },
  {
   "cell_type": "code",
   "execution_count": 37,
   "metadata": {},
   "outputs": [
    {
     "data": {
      "text/plain": [
       "[1, 2, 3, 4, 5]"
      ]
     },
     "execution_count": 37,
     "metadata": {},
     "output_type": "execute_result"
    }
   ],
   "source": [
    "#Q5 Write a Python function that takes a list \n",
    "#and returns a new list with unique elements of the first\n",
    "Sample_List = [1,2,3,3,3,3,4,5]\n",
    "def checkUnique(elementList):\n",
    "    newList=[]\n",
    "    for i in elementList:\n",
    "     if i not in newList:\n",
    "        newList.append(i)\n",
    "    return newList\n",
    "checkUnique(Sample_List)"
   ]
  },
  {
   "cell_type": "code",
   "execution_count": 36,
   "metadata": {},
   "outputs": [
    {
     "name": "stdout",
     "output_type": "stream",
     "text": [
      "False\n",
      "True\n",
      "True\n"
     ]
    }
   ],
   "source": [
    "#Q6 Given a list of numbers, return True if first \n",
    "#and last number of a list is same\n",
    "list1=[1,2,5,4,1]\n",
    "list2=[5,6,3,2,1]\n",
    "list3=[88,44,55,66,77,88]\n",
    "\n",
    "def firstLastCheck(numbersList):\n",
    "    lastIndex=len(numbersList)-1\n",
    "    if numbersList[0] == numbersList[lastIndex]:\n",
    "        return True\n",
    "    else:\n",
    "        return False\n",
    "\n",
    "print(firstLastCheck(list2))\n",
    "print(firstLastCheck(list1))\n",
    "print(firstLastCheck(list3))"
   ]
  }
 ],
 "metadata": {
  "kernelspec": {
   "display_name": "Python 3 (ipykernel)",
   "language": "python",
   "name": "python3"
  },
  "language_info": {
   "codemirror_mode": {
    "name": "ipython",
    "version": 3
   },
   "file_extension": ".py",
   "mimetype": "text/x-python",
   "name": "python",
   "nbconvert_exporter": "python",
   "pygments_lexer": "ipython3",
   "version": "3.11.5"
  }
 },
 "nbformat": 4,
 "nbformat_minor": 4
}
